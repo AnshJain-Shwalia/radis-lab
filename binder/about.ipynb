{
 "cells": [
  {
   "cell_type": "markdown",
   "metadata": {},
   "source": [
    "# Customize your RADIS-lab\n",
    "\n",
    "🌱\n",
    "\n",
    "## The JupyerLab Environment\n",
    "\n",
    "RADIS-lab uses the JupyterLab environment, and is deployed for you on [mybinder.org](http://mybinder.org/). The session will timeout after ~1hr of inactivity. You'll still be able to download your notebooks on timeout. You can also save/restore directly to your browser storage. \n",
    "\n",
    "[mybinder.org](http://mybinder.org/) provides 2 Gb of RAM by default. This is enough for calculations with the HITRAN database but may be limiting for HITEMP. [notebooks.gesis.org](https://notebooks.gesis.org/) can host JupyterLab with up to 8 Gb RAM for public users and 32 Gb for registered users. We are also looking for institutions to host RADIS-lab on clusters with large RAM access. \n",
    "\n",
    "\n",
    "\n",
    "## Jupyter-Lab tips\n",
    "\n",
    "- If you are used to Python script, you can create a .py file from a notebook at anytime with `File>Export Notebook As>Executable file`.\n",
    "- JupyterLab can be improved with extensions. Open the `Extension Manager` on the left.\n",
    "\n",
    "RADIS-lab comes with preinstalled extensions : \n",
    "- [jupyter-matplotlib](https://github.com/matplotlib/jupyter-matplotlib.git) for interactive Matplotlib plots. Initialize your notebook with `%matplotlib widget` for interactive plots (zoom, etc.). Use `%matplotlib inline` for inside plots that are properly exported.\n",
    "- [jupyter-offlinenotebook](https://github.com/manics/jupyter-offlinenotebook) to download your notebooks at anytime even if your session expires, and to save/retrieve data from your browser cache. \n",
    "- [jupyterlab/hdf5](https://github.com/jupyterlab/jupyterlab-hdf5) to open .h5 files, such as line database cached files (look into `~/databases`) or rovibrational energies (into `radis/db/molecules`).\n",
    "\n",
    "You can install your own extensions. Feel free to suggest new ones to be installed by defaut on [💬 Slack](https://github.com/radis/slack-invite) or by opening a new issue on [GitHub](https://github.com/radis/radis-lab)\n",
    "\n",
    "## Custom Databases\n",
    "\n",
    "RADIS-lab currently comes with some molecules of the HITEMP database, available in `~/databases` and already preconfigured in a RADIS Configuration file [~/radis.json](../radis.json)  *(read more about configuration files on the [online documentation](https://radis.readthedocs.io/en/latest/lbl/lbl.html#label-lbl-config-file))*\n",
    "\n",
    "\n"
   ]
  },
  {
   "cell_type": "code",
   "execution_count": null,
   "metadata": {},
   "outputs": [],
   "source": [
    "from radis.misc.config import printDatabankList\n",
    "printDatabankList()\n"
   ]
  },
  {
   "cell_type": "code",
   "execution_count": null,
   "metadata": {},
   "outputs": [],
   "source": []
  },
  {
   "cell_type": "markdown",
   "metadata": {},
   "source": [
    "You can download and upload other databases in a session. If you would like to have some databases pre-configured on the RADIS-lab launch, ask on the [💬 Slack](https://github.com/radis/slack-invite) or by opening a new issue on [GitHub](https://github.com/radis/radis-lab). "
   ]
  }
 ],
 "metadata": {
  "kernelspec": {
   "display_name": "Python 3",
   "language": "python",
   "name": "python3"
  },
  "language_info": {
   "codemirror_mode": {
    "name": "ipython",
    "version": 3
   },
   "file_extension": ".py",
   "mimetype": "text/x-python",
   "name": "python",
   "nbconvert_exporter": "python",
   "pygments_lexer": "ipython3",
   "version": "3.6.11"
  }
 },
 "nbformat": 4,
 "nbformat_minor": 4
}
