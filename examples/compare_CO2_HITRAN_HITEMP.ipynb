{
 "cells": [
  {
   "cell_type": "markdown",
   "metadata": {},
   "source": [
    "## Compare CO$_2$ HITRAN and HITEMP\n",
    "\n",
    "⚠️ *HITEMP CO2 computations require a lot of RAM. If you're lucky to be hosted on a  https://notebooks.gesis.org binder with 8 GB RAM you should be fine. If on the others https://mybinder.org/ Binder providers with 2 GB RAM you may be at risk of crashing your Binder.* \n",
    "\n",
    "Compare the asymmetric stretching band  of CO2 (the 2400 cm-1 / 4.2 µm band), at various temperatures from 300 to 3500 K, in the HITRAN and HITEMP databases. If using these databases in your work, remember [to cite them](https://radis.readthedocs.io/en/latest/references/references.html#line-databases).\n",
    "\n",
    "For any help, refer to [RADIS documentation](https://radis.readthedocs.io) \n",
    "\n",
    "---\n",
    "\n",
    "First let's initialize our RADIS environment, and the calculation conditions : "
   ]
  },
  {
   "cell_type": "markdown",
   "metadata": {},
   "source": [
    "## Databases \n",
    "\n",
    "The HITRAN database will be automatically downloaded. The HITEMP database files for CO2 have been preconfigured in the RADIS [~/radis.json](../radis.json) config file. You can see the list of preconfigured databases with [printDatabankList()](https://radis.readthedocs.io/en/latest/gen_modules/radis.misc.config.html#radis.misc.config.printDatabankList). \n"
   ]
  },
  {
   "cell_type": "markdown",
   "metadata": {},
   "source": [
    "### Calculations\n",
    "\n",
    "Let's initialize the plot environment, and choose some conditions for all the calculations : "
   ]
  },
  {
   "cell_type": "code",
   "execution_count": null,
   "metadata": {},
   "outputs": [],
   "source": [
    "# Setup plots : use `%matplotlib widget` for interactive plots (zoom, etc.) but graphs will not appear on download.\n",
    "%matplotlib inline\n",
    "\n",
    "from astropy import units as u\n",
    "conditions = {\"wavenum_min\": 2000 / u.cm, \n",
    "              \"wavenum_max\": 2400 / u.cm,\n",
    "              \"molecule\":'CO2',\n",
    "              \"isotope\":'1,2,3',\n",
    "              \"pressure\":1.01325 * u.bar,\n",
    "              \"mole_fraction\":1,\n",
    "              \"path_length\":1 * u.cm,\n",
    "             }\n"
   ]
  },
  {
   "cell_type": "markdown",
   "metadata": {},
   "source": [
    "Now let's calculate the spectra with [calc_spectrum()](https://radis.readthedocs.io/en/latest/source/radis.lbl.calc.html#radis.lbl.calc.calc_spectrum) "
   ]
  },
  {
   "cell_type": "code",
   "execution_count": null,
   "metadata": {},
   "outputs": [],
   "source": [
    "from radis import calc_spectrum\n",
    "# CO2 HITRAN\n",
    "s_tran = calc_spectrum(**conditions,\n",
    "                       Tgas=300, \n",
    "                       databank='fetch',  # HITRAN automatically downloaded\n",
    "                       name=\"HITRAN\"\n",
    "                      )\n",
    "# without verbose=False this will show all the input parameters. \n",
    "# With verbose=2,3,etc... we get increasing number of details about the calculation. "
   ]
  },
  {
   "cell_type": "markdown",
   "metadata": {},
   "source": [
    "Now let's compute with HITEMP. \n",
    "\n",
    "⚠️ *The first computation may take a lot of time to generate .hdf5 [cache files](https://radis.readthedocs.io/en/latest/source/radis.misc.cache_files.html) from the HITEMP files. At this point this is not yet done while setting up the databases. The spectrum calculation itself will be extremelly fast for the rest of your session !*"
   ]
  },
  {
   "cell_type": "code",
   "execution_count": null,
   "metadata": {},
   "outputs": [],
   "source": [
    "# CO2 HITEMP\n",
    "s_temp = calc_spectrum(**conditions,\n",
    "                       Tgas=300, \n",
    "                       databank='hitemp',  # HITEMP automatically downloaded\n",
    "                       name=\"HITEMP2019\",\n",
    "                       verbose=3,          # adding some extra info for the first computation\n",
    "                      )"
   ]
  },
  {
   "cell_type": "markdown",
   "metadata": {},
   "source": [
    "Plot the difference with [plot_diff](https://radis.readthedocs.io/en/latest/source/radis.spectrum.compare.html#radis.spectrum.compare.plot_diff)"
   ]
  },
  {
   "cell_type": "code",
   "execution_count": null,
   "metadata": {
    "tags": [
     "nbsphinx-thumbnail"
    ]
   },
   "outputs": [],
   "source": [
    "from radis import plot_diff\n",
    "plot_diff(s_temp, s_tran, Iunit='µW/cm2/sr/nm')"
   ]
  },
  {
   "cell_type": "markdown",
   "metadata": {},
   "source": [
    "### Comparison for various temperatures \n",
    "\n",
    "Let's make a loop : "
   ]
  },
  {
   "cell_type": "code",
   "execution_count": null,
   "metadata": {},
   "outputs": [],
   "source": [
    "conditions.update({\n",
    "    \"warnings\":{\n",
    "            \"MissingSelfBroadeningWarning\": \"ignore\", # HITRAN has no temperature dependance for resonant-broadening\n",
    "            \"HighTemperatureWarning\": \"ignore\", # HITRAN at high temperature is not valid and will trigger warnings. \n",
    "        },\n",
    "    \"verbose\": False,  # no need to print calculation details \n",
    "})\n",
    "    \n",
    "\n",
    "for Tgas in [300, 700, 1300, 2000, 2500, 3000, 3500]:\n",
    "    s_tran = calc_spectrum(**conditions,\n",
    "                           Tgas=Tgas, \n",
    "                           databank='hitran',\n",
    "                           name=\"HITRAN\")\n",
    "    s_temp = calc_spectrum(**conditions,\n",
    "                           Tgas=Tgas, \n",
    "                           databank=\"hitemp\",\n",
    "                           name=\"HITEMP2019\")\n",
    "    plot_diff(s_temp, s_tran, 'abscoeff', title=f\"{Tgas}K\")"
   ]
  },
  {
   "cell_type": "code",
   "execution_count": null,
   "metadata": {},
   "outputs": [],
   "source": []
  }
 ],
 "metadata": {
  "celltoolbar": "Tags",
  "kernelspec": {
   "display_name": "Python 3",
   "language": "python",
   "name": "python3"
  },
  "language_info": {
   "codemirror_mode": {
    "name": "ipython",
    "version": 3
   },
   "file_extension": ".py",
   "mimetype": "text/x-python",
   "name": "python",
   "nbconvert_exporter": "python",
   "pygments_lexer": "ipython3",
   "version": "3.8.8"
  }
 },
 "nbformat": 4,
 "nbformat_minor": 4
}
