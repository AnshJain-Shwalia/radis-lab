{
 "cells": [
  {
   "cell_type": "markdown",
   "metadata": {},
   "source": [
    "# Comparing line-of-sight CO2 with experiments\n",
    "\n",
    "Here we use a line-of-sight model with 3 slabs : a  high temperature CO2 emission at 1450 K, a post-discharge reactor at 350 K, and room absorption with 400 ppm. \n",
    "\n",
    "---"
   ]
  },
  {
   "cell_type": "code",
   "execution_count": 1,
   "metadata": {},
   "outputs": [],
   "source": [
    "# Initialize session\n",
    "%matplotlib widget"
   ]
  },
  {
   "cell_type": "markdown",
   "metadata": {},
   "source": [
    "### Compute CO2 spectra\n",
    "\n",
    "We use [calc_spectrum](https://radis.readthedocs.io/en/latest/source/radis.lbl.calc.html#radis.lbl.calc.calc_spectrum) which will conveniently download data from HITRAN. Note that for the high temperatures considered here, we should instead of use HITEMP. This is possible on a local installation of RADIS : see the [documentation](https://radis.readthedocs.io) "
   ]
  },
  {
   "cell_type": "code",
   "execution_count": 2,
   "metadata": {},
   "outputs": [
    {
     "name": "stderr",
     "output_type": "stream",
     "text": [
      "/srv/conda/envs/notebook/lib/python3.6/site-packages/radis/misc/warning.py:241: HighTemperatureWarning: HITRAN is valid for low temperatures (typically < 700 K). For higher temperatures you may need HITEMP or CDSD. See the 'databank=' parameter\n",
      "  warnings.warn(WarningType(message))\n",
      "/srv/conda/envs/notebook/lib/python3.6/site-packages/radis/misc/warning.py:241: MissingSelfBroadeningWarning: Self-broadening temperature coefficient Tdpsel not given in database: used Tdpair instead\n",
      "  warnings.warn(WarningType(message))\n"
     ]
    },
    {
     "data": {
      "application/vnd.jupyter.widget-view+json": {
       "model_id": "ac551f8b8edb4a5b8189b8e85f225785",
       "version_major": 2,
       "version_minor": 0
      },
      "text/plain": [
       "Canvas(toolbar=Toolbar(toolitems=[('Home', 'Reset original view', 'home', 'home'), ('Back', 'Back to previous …"
      ]
     },
     "metadata": {},
     "output_type": "display_data"
    },
    {
     "data": {
      "text/plain": [
       "<matplotlib.lines.Line2D at 0x7ff132ca9940>"
      ]
     },
     "execution_count": 2,
     "metadata": {},
     "output_type": "execute_result"
    }
   ],
   "source": [
    "from radis import calc_spectrum\n",
    "from astropy import units as u\n",
    "\n",
    "s = calc_spectrum(4080 * u.nm, 4500 * u.nm,\n",
    "                  molecule='CO2',\n",
    "                  isotope='1,2,3',\n",
    "                  pressure=1.01325 * u.bar,\n",
    "                  Tgas=1450 * u.K,\n",
    "                  mole_fraction=0.5,\n",
    "                  path_length=0.11 * u.cm,\n",
    "                  name='Plasma',\n",
    "                  verbose=False,\n",
    "                  )\n",
    "s.plot('radiance_noslit', wunit='nm')"
   ]
  },
  {
   "cell_type": "code",
   "execution_count": 3,
   "metadata": {},
   "outputs": [
    {
     "name": "stderr",
     "output_type": "stream",
     "text": [
      "/srv/conda/envs/notebook/lib/python3.6/site-packages/radis/misc/warning.py:241: MissingSelfBroadeningWarning: Self-broadening temperature coefficient Tdpsel not given in database: used Tdpair instead\n",
      "  warnings.warn(WarningType(message))\n"
     ]
    },
    {
     "data": {
      "application/vnd.jupyter.widget-view+json": {
       "model_id": "c98f3905ae7446bb84759f68d616341d",
       "version_major": 2,
       "version_minor": 0
      },
      "text/plain": [
       "Canvas(toolbar=Toolbar(toolitems=[('Home', 'Reset original view', 'home', 'home'), ('Back', 'Back to previous …"
      ]
     },
     "metadata": {},
     "output_type": "display_data"
    },
    {
     "data": {
      "text/plain": [
       "<matplotlib.lines.Line2D at 0x7ff132b2d9e8>"
      ]
     },
     "execution_count": 3,
     "metadata": {},
     "output_type": "execute_result"
    }
   ],
   "source": [
    "s_post = calc_spectrum(4080 * u.nm, 4500 * u.nm,\n",
    "                  molecule='CO2',\n",
    "                  isotope='1,2,3',\n",
    "                  pressure=1.01325 * u.bar,\n",
    "                  Tgas=350 * u.K,\n",
    "                  mole_fraction=1.0,\n",
    "                  path_length=5.5 * u.cm,\n",
    "                  name='Post',\n",
    "                  verbose=False,\n",
    "                  )\n",
    "s.plot('transmittance_noslit', wunit='nm')"
   ]
  },
  {
   "cell_type": "code",
   "execution_count": 4,
   "metadata": {},
   "outputs": [
    {
     "name": "stderr",
     "output_type": "stream",
     "text": [
      "/srv/conda/envs/notebook/lib/python3.6/site-packages/radis/misc/warning.py:241: MissingSelfBroadeningWarning: Self-broadening temperature coefficient Tdpsel not given in database: used Tdpair instead\n",
      "  warnings.warn(WarningType(message))\n"
     ]
    },
    {
     "data": {
      "application/vnd.jupyter.widget-view+json": {
       "model_id": "8ae0f004e4074e18ad27793cdb3a13d7",
       "version_major": 2,
       "version_minor": 0
      },
      "text/plain": [
       "Canvas(toolbar=Toolbar(toolitems=[('Home', 'Reset original view', 'home', 'home'), ('Back', 'Back to previous …"
      ]
     },
     "metadata": {},
     "output_type": "display_data"
    },
    {
     "data": {
      "text/plain": [
       "<matplotlib.lines.Line2D at 0x7ff132d74a58>"
      ]
     },
     "execution_count": 4,
     "metadata": {},
     "output_type": "execute_result"
    }
   ],
   "source": [
    "s0 = calc_spectrum(4080 * u.nm, 4500 * u.nm,\n",
    "                  molecule='CO2',\n",
    "                  isotope='1,2,3',\n",
    "                  pressure=1.01325 * u.bar,\n",
    "                  Tgas=300 * u.K,\n",
    "                  mole_fraction=400e-6,\n",
    "                  path_length=300 * u.cm,\n",
    "                  name='Room',\n",
    "                  verbose=False\n",
    "                  )\n",
    "s0.plot('transmittance_noslit', wunit='nm')"
   ]
  },
  {
   "cell_type": "markdown",
   "metadata": {},
   "source": [
    "### Line-of-sight spectrum\n",
    "\n",
    "To compute the line-of-sight we use [SerialSlabs](https://radis.readthedocs.io/en/latest/source/radis.los.slabs.html#radis.los.slabs.SerialSlabs) from the [line-of-sight module](https://radis.readthedocs.io/en/latest/los/los.html). Note that `SerialSlabs(s, s0)` is equivalent to `s > s0` but this syntax is limited to two spectra only. "
   ]
  },
  {
   "cell_type": "code",
   "execution_count": 5,
   "metadata": {},
   "outputs": [],
   "source": [
    "from radis import SerialSlabs\n",
    "s_los = SerialSlabs(s, s_post, s0)\n"
   ]
  },
  {
   "cell_type": "markdown",
   "metadata": {},
   "source": [
    "### Instrumental slit function \n",
    "\n",
    "We then apply an instrumental slit function to the line-of-sight spectrum. We can use a trapezoidal slit function with FWHM~1.6 nm. As shown below, this corresponds quite well to the instrumental slit function measured experimentally, and shown with the convenient [plot_slit](https://radis.readthedocs.io/en/develop/source/radis.tools.slit.html#radis.tools.slit.plot_slit) function. \n"
   ]
  },
  {
   "cell_type": "code",
   "execution_count": 6,
   "metadata": {},
   "outputs": [
    {
     "data": {
      "application/vnd.jupyter.widget-view+json": {
       "model_id": "b47a4f7fe65a433899f7424ea3d0e64d",
       "version_major": 2,
       "version_minor": 0
      },
      "text/plain": [
       "Canvas(toolbar=Toolbar(toolitems=[('Home', 'Reset original view', 'home', 'home'), ('Back', 'Back to previous …"
      ]
     },
     "metadata": {},
     "output_type": "display_data"
    },
    {
     "data": {
      "application/vnd.jupyter.widget-view+json": {
       "model_id": "23308b7870e1445d80fd2a4ec3723469",
       "version_major": 2,
       "version_minor": 0
      },
      "text/plain": [
       "Canvas(toolbar=Toolbar(toolitems=[('Home', 'Reset original view', 'home', 'home'), ('Back', 'Back to previous …"
      ]
     },
     "metadata": {},
     "output_type": "display_data"
    },
    {
     "data": {
      "text/plain": [
       "(<Figure size 640x480 with 1 Axes>,\n",
       " <AxesSubplot:xlabel='Wavespace', ylabel='Slit function'>)"
      ]
     },
     "execution_count": 6,
     "metadata": {},
     "output_type": "execute_result"
    }
   ],
   "source": [
    "s_los.apply_slit((1.55, 1.65), 'nm', shape='trapezoidal')\n",
    "s_los.plot_slit()\n",
    "\n",
    "from radis import plot_slit\n",
    "plot_slit(\"slit_function.txt\")"
   ]
  },
  {
   "cell_type": "markdown",
   "metadata": {},
   "source": [
    "We could also have used an experimentally measured slit function directly by giving the filename to [apply_slit()](https://radis.readthedocs.io/en/latest/source/radis.spectrum.spectrum.html#radis.spectrum.spectrum.Spectrum.apply_slit) . \n",
    "\n",
    "[apply_slit()](https://radis.readthedocs.io/en/latest/source/radis.spectrum.spectrum.html#radis.spectrum.spectrum.Spectrum.apply_slit) also allows us to correct for the change of the slit function in the wavelength space, which results from the pixel to wavelength calibration function and changes with the wavelength due to the linear dispersion of the spectrometer. RADIS features an easy way to compute and correct for this slit dispersion : "
   ]
  },
  {
   "cell_type": "code",
   "execution_count": 7,
   "metadata": {},
   "outputs": [
    {
     "name": "stdout",
     "output_type": "stream",
     "text": [
      "Resampling - Energy conservation: 100.01%\n",
      "4430.11 to 4489.65nm: slit function FWHM changed from 1.64 to 1.62\n",
      "4430.11 to 4457.75nm: slit function FWHM changed from 1.64 to 1.63\n",
      "4430.11 to 4412.99nm: slit function FWHM changed from 1.64 to 1.65\n",
      "4430.11 to 4366.59nm: slit function FWHM changed from 1.64 to 1.67\n",
      "4430.11 to 4318.41nm: slit function FWHM changed from 1.64 to 1.68\n",
      "4430.11 to 4268.37nm: slit function FWHM changed from 1.64 to 1.70\n",
      "4430.11 to 4216.36nm: slit function FWHM changed from 1.64 to 1.72\n",
      "4430.11 to 4162.25nm: slit function FWHM changed from 1.64 to 1.74\n",
      "4430.11 to 4108.50nm: slit function FWHM changed from 1.64 to 1.76\n"
     ]
    },
    {
     "name": "stderr",
     "output_type": "stream",
     "text": [
      "/srv/conda/envs/notebook/lib/python3.6/site-packages/radis/tools/slit.py:907: SlitDispersionWarning: Slit dispersion changes slightly (1.08%) between 4434.243 and 4481.499nm. Consider splitting your spectrum\n",
      "  SlitDispersionWarning,\n",
      "/srv/conda/envs/notebook/lib/python3.6/site-packages/radis/tools/slit.py:907: SlitDispersionWarning: Slit dispersion changes slightly (1.09%) between 4388.744 and 4437.529nm. Consider splitting your spectrum\n",
      "  SlitDispersionWarning,\n",
      "/srv/conda/envs/notebook/lib/python3.6/site-packages/radis/tools/slit.py:907: SlitDispersionWarning: Slit dispersion changes slightly (1.09%) between 4341.509 and 4391.963nm. Consider splitting your spectrum\n",
      "  SlitDispersionWarning,\n",
      "/srv/conda/envs/notebook/lib/python3.6/site-packages/radis/tools/slit.py:907: SlitDispersionWarning: Slit dispersion changes slightly (1.10%) between 4292.479 and 4344.659nm. Consider splitting your spectrum\n",
      "  SlitDispersionWarning,\n",
      "/srv/conda/envs/notebook/lib/python3.6/site-packages/radis/tools/slit.py:907: SlitDispersionWarning: Slit dispersion changes slightly (1.11%) between 4241.536 and 4295.558nm. Consider splitting your spectrum\n",
      "  SlitDispersionWarning,\n",
      "/srv/conda/envs/notebook/lib/python3.6/site-packages/radis/tools/slit.py:907: SlitDispersionWarning: Slit dispersion changes slightly (1.12%) between 4188.558 and 4244.543nm. Consider splitting your spectrum\n",
      "  SlitDispersionWarning,\n",
      "/srv/conda/envs/notebook/lib/python3.6/site-packages/radis/tools/slit.py:907: SlitDispersionWarning: Slit dispersion changes slightly (1.13%) between 4133.416 and 4191.490nm. Consider splitting your spectrum\n",
      "  SlitDispersionWarning,\n",
      "/srv/conda/envs/notebook/lib/python3.6/site-packages/radis/tools/slit.py:907: SlitDispersionWarning: Slit dispersion changes slightly (1.04%) between 4081.106 and 4136.271nm. Consider splitting your spectrum\n",
      "  SlitDispersionWarning,\n"
     ]
    },
    {
     "data": {
      "text/plain": [
       "<radis.spectrum.spectrum.Spectrum at 0x7ff132b9f138>"
      ]
     },
     "execution_count": 7,
     "metadata": {},
     "output_type": "execute_result"
    }
   ],
   "source": [
    "from radis.test.tools.test_slit import linear_dispersion\n",
    "dispersion = lambda w: linear_dispersion(w, 756, phi=-6.91, m=1, gr=297.42) # Reciprocal linear dispersion of the Acton 750i\n",
    "s_los.apply_slit(\"slit_function.txt\", slit_dispersion=dispersion)"
   ]
  },
  {
   "cell_type": "markdown",
   "metadata": {},
   "source": [
    "## Compare with experiment\n",
    "\n",
    "### Experiment spectrum\n",
    "\n",
    "We load the experiment file in `radis` [Spectrum](https://radis.readthedocs.io/en/latest/source/radis.spectrum.spectrum.html#radis.spectrum.spectrum.Spectrum) object directly from the file. We could also import it with `numpy` and use [Spectrum.from_array()](https://radis.readthedocs.io/en/latest/source/radis.spectrum.spectrum.html#radis.spectrum.spectrum.Spectrum.from_array). We could have also loaded a radis `.spec` file (with units and metadata) directly with [load_spec](https://radis.readthedocs.io/en/latest/source/radis.tools.database.html#radis.tools.database.load_spec)"
   ]
  },
  {
   "cell_type": "code",
   "execution_count": 8,
   "metadata": {},
   "outputs": [],
   "source": [
    "from radis import Spectrum\n",
    "# Import an experimental spectrum : \n",
    "s_exp = Spectrum.from_txt('experiment.txt', 'radiance', unit='µW/cm2/sr/nm', waveunit='nm')       "
   ]
  },
  {
   "cell_type": "markdown",
   "metadata": {},
   "source": [
    "### Compare\n",
    "\n",
    "We use [plot_diff()](https://radis.readthedocs.io/en/latest/source/radis.spectrum.compare.html#radis.spectrum.compare.plot_diff) "
   ]
  },
  {
   "cell_type": "code",
   "execution_count": 9,
   "metadata": {},
   "outputs": [
    {
     "data": {
      "application/vnd.jupyter.widget-view+json": {
       "model_id": "886cc86324b84a8bbc8b8e99a0652f49",
       "version_major": 2,
       "version_minor": 0
      },
      "text/plain": [
       "Canvas(toolbar=Toolbar(toolitems=[('Home', 'Reset original view', 'home', 'home'), ('Back', 'Back to previous …"
      ]
     },
     "metadata": {},
     "output_type": "display_data"
    },
    {
     "data": {
      "text/plain": [
       "(<Figure size 640x480 with 2 Axes>,\n",
       " [<AxesSubplot:>, <AxesSubplot:xlabel='Wavelength (nm)'>])"
      ]
     },
     "execution_count": 9,
     "metadata": {},
     "output_type": "execute_result"
    }
   ],
   "source": [
    "from radis import plot_diff\n",
    "plot_diff(s_exp, s_los)"
   ]
  },
  {
   "cell_type": "markdown",
   "metadata": {},
   "source": [
    "## Analysis\n",
    "\n",
    "### Post-discharge absorption\n",
    "\n",
    "Let's compare the emission of the hot CO2 to the total line-of-sight emission. For visualization purpose we apply the same slit function to the hot CO2 slab.   "
   ]
  },
  {
   "cell_type": "code",
   "execution_count": 10,
   "metadata": {},
   "outputs": [
    {
     "name": "stdout",
     "output_type": "stream",
     "text": [
      "Resampling - Energy conservation: 100.01%\n",
      "4430.11 to 4489.65nm: slit function FWHM changed from 1.64 to 1.62\n",
      "4430.11 to 4457.75nm: slit function FWHM changed from 1.64 to 1.63\n",
      "4430.11 to 4412.99nm: slit function FWHM changed from 1.64 to 1.65\n",
      "4430.11 to 4366.59nm: slit function FWHM changed from 1.64 to 1.67\n",
      "4430.11 to 4318.41nm: slit function FWHM changed from 1.64 to 1.68\n",
      "4430.11 to 4268.37nm: slit function FWHM changed from 1.64 to 1.70\n",
      "4430.11 to 4216.36nm: slit function FWHM changed from 1.64 to 1.72\n",
      "4430.11 to 4162.25nm: slit function FWHM changed from 1.64 to 1.74\n",
      "4430.11 to 4108.50nm: slit function FWHM changed from 1.64 to 1.76\n"
     ]
    },
    {
     "name": "stderr",
     "output_type": "stream",
     "text": [
      "/srv/conda/envs/notebook/lib/python3.6/site-packages/radis/tools/slit.py:907: SlitDispersionWarning: Slit dispersion changes slightly (1.08%) between 4434.243 and 4481.499nm. Consider splitting your spectrum\n",
      "  SlitDispersionWarning,\n",
      "/srv/conda/envs/notebook/lib/python3.6/site-packages/radis/tools/slit.py:907: SlitDispersionWarning: Slit dispersion changes slightly (1.09%) between 4388.744 and 4437.529nm. Consider splitting your spectrum\n",
      "  SlitDispersionWarning,\n",
      "/srv/conda/envs/notebook/lib/python3.6/site-packages/radis/tools/slit.py:907: SlitDispersionWarning: Slit dispersion changes slightly (1.09%) between 4341.509 and 4391.963nm. Consider splitting your spectrum\n",
      "  SlitDispersionWarning,\n",
      "/srv/conda/envs/notebook/lib/python3.6/site-packages/radis/tools/slit.py:907: SlitDispersionWarning: Slit dispersion changes slightly (1.10%) between 4292.479 and 4344.659nm. Consider splitting your spectrum\n",
      "  SlitDispersionWarning,\n",
      "/srv/conda/envs/notebook/lib/python3.6/site-packages/radis/tools/slit.py:907: SlitDispersionWarning: Slit dispersion changes slightly (1.11%) between 4241.536 and 4295.558nm. Consider splitting your spectrum\n",
      "  SlitDispersionWarning,\n",
      "/srv/conda/envs/notebook/lib/python3.6/site-packages/radis/tools/slit.py:907: SlitDispersionWarning: Slit dispersion changes slightly (1.12%) between 4188.558 and 4244.543nm. Consider splitting your spectrum\n",
      "  SlitDispersionWarning,\n",
      "/srv/conda/envs/notebook/lib/python3.6/site-packages/radis/tools/slit.py:907: SlitDispersionWarning: Slit dispersion changes slightly (1.13%) between 4133.416 and 4191.490nm. Consider splitting your spectrum\n",
      "  SlitDispersionWarning,\n",
      "/srv/conda/envs/notebook/lib/python3.6/site-packages/radis/tools/slit.py:907: SlitDispersionWarning: Slit dispersion changes slightly (1.04%) between 4081.106 and 4136.271nm. Consider splitting your spectrum\n",
      "  SlitDispersionWarning,\n"
     ]
    },
    {
     "data": {
      "application/vnd.jupyter.widget-view+json": {
       "model_id": "ebcf0944e8ca4b8b8f82cfbf0b623279",
       "version_major": 2,
       "version_minor": 0
      },
      "text/plain": [
       "Canvas(toolbar=Toolbar(toolitems=[('Home', 'Reset original view', 'home', 'home'), ('Back', 'Back to previous …"
      ]
     },
     "metadata": {},
     "output_type": "display_data"
    },
    {
     "data": {
      "text/plain": [
       "<matplotlib.lines.Line2D at 0x7ff133812470>"
      ]
     },
     "execution_count": 10,
     "metadata": {},
     "output_type": "execute_result"
    }
   ],
   "source": [
    "s.apply_slit(\"slit_function.txt\", slit_dispersion=dispersion)\n",
    "s.plot(wunit='nm')\n",
    "             \n",
    "s_los.plot(wunit='nm', nfig='same')\n",
    "\n",
    "#import matplotlib.pyplot as plt\n",
    "#plt.xlim((4165, 4180))"
   ]
  },
  {
   "cell_type": "markdown",
   "metadata": {},
   "source": [
    "The emission is absorbed even in the bandhead at 4.2 µm, as can be shown by uncommenting the xlim() parameters in the cell above to zoom on the 4165 - 4180 nm region. The emission is mostly absorbed by the post-discharge slab, as shown by plotting the transmittance below, which is less than 0.8 at the bandhead :  "
   ]
  },
  {
   "cell_type": "code",
   "execution_count": 11,
   "metadata": {},
   "outputs": [
    {
     "data": {
      "application/vnd.jupyter.widget-view+json": {
       "model_id": "fb9a10014eb74376a2b9f4f574f94c14",
       "version_major": 2,
       "version_minor": 0
      },
      "text/plain": [
       "Canvas(toolbar=Toolbar(toolitems=[('Home', 'Reset original view', 'home', 'home'), ('Back', 'Back to previous …"
      ]
     },
     "metadata": {},
     "output_type": "display_data"
    },
    {
     "data": {
      "text/plain": [
       "(4165.0, 4180.0)"
      ]
     },
     "execution_count": 11,
     "metadata": {},
     "output_type": "execute_result"
    }
   ],
   "source": [
    "s_post.plot('transmittance_noslit', wunit='nm')\n",
    "\n",
    "import matplotlib.pyplot as plt\n",
    "plt.xlim((4165, 4180))"
   ]
  },
  {
   "cell_type": "markdown",
   "metadata": {},
   "source": [
    "This emphasizes the importance of computing large lineshapes. Here, even a lineshape cutoff parameter of 20 cm-1 would not be enough to account for the bandhead absorption. \n",
    "\n",
    "It is also known that far from the line center, the CO2 lineshape does not follow a perfect Voigt profile. This is not taken into account in RADIS 0.9.26. Advanced lineshapes require to take into account speed-dependant and line-mixing effects.  "
   ]
  }
 ],
 "metadata": {
  "kernelspec": {
   "display_name": "Python 3",
   "language": "python",
   "name": "python3"
  },
  "language_info": {
   "codemirror_mode": {
    "name": "ipython",
    "version": 3
   },
   "file_extension": ".py",
   "mimetype": "text/x-python",
   "name": "python",
   "nbconvert_exporter": "python",
   "pygments_lexer": "ipython3",
   "version": "3.6.11"
  }
 },
 "nbformat": 4,
 "nbformat_minor": 4
}
