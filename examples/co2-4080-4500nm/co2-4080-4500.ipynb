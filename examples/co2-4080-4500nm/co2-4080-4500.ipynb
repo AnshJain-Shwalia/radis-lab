{
 "cells": [
  {
   "cell_type": "markdown",
   "metadata": {},
   "source": [
    "# Compare with experiment : a full CO2 example\n",
    "\n",
    "With high temperature CO2 emission, room absorption, and comparison with experimental file.\n",
    "\n",
    "For any help, refer to [RADIS documentation](https://radis.readthedocs.io) \n",
    "\n",
    "---"
   ]
  },
  {
   "cell_type": "code",
   "execution_count": null,
   "metadata": {},
   "outputs": [],
   "source": [
    "# Initialize session\n",
    "%matplotlib widget"
   ]
  },
  {
   "cell_type": "markdown",
   "metadata": {},
   "source": [
    "### Compute CO2 spectra\n",
    "\n",
    "We use [calc_spectrum](https://radis.readthedocs.io/en/latest/source/radis.lbl.calc.html#radis.lbl.calc.calc_spectrum) which will conveniently download data from HITRAN. Note that for the high temperatures considered here, we should instead of use HITEMP. This is possible on a local installation of RADIS : see the [documentation](https://radis.readthedocs.io) "
   ]
  },
  {
   "cell_type": "code",
   "execution_count": null,
   "metadata": {},
   "outputs": [],
   "source": [
    "from radis import calc_spectrum\n",
    "from astropy import units as u\n",
    "\n",
    "# A first example. \n",
    "s = calc_spectrum(4080 * u.nm, 4500 * u.nm,\n",
    "                  molecule='CO2',\n",
    "                  isotope='1,2,3',\n",
    "                  pressure=1.01325 * u.bar,\n",
    "                  Tgas=1200 * u.K,\n",
    "                  mole_fraction=0.1,\n",
    "                  path_length=1 * u.cm,\n",
    "                  name='Hot CO2',\n",
    "                  verbose=False\n",
    "                  )\n",
    "s.plot('radiance_noslit', wunit='nm')\n",
    "# Update, or add your code below\n",
    "# ... "
   ]
  },
  {
   "cell_type": "code",
   "execution_count": null,
   "metadata": {},
   "outputs": [],
   "source": [
    "s0 = calc_spectrum(4080 * u.nm, 4500 * u.nm,\n",
    "                  molecule='CO2',\n",
    "                  isotope='1,2,3',\n",
    "                  pressure=1.01325 * u.bar,\n",
    "                  Tgas=300 * u.K,\n",
    "                  mole_fraction=1,\n",
    "                  path_length=1 * u.cm,\n",
    "                  name='Room CO2',\n",
    "                  verbose=False\n",
    "                  )\n",
    "s0.plot('transmittance_noslit', wunit='nm')"
   ]
  },
  {
   "cell_type": "markdown",
   "metadata": {},
   "source": [
    "### Line-of-sight spectrum\n",
    "\n",
    "We then apply an instrumental slit function to the line-of-sight spectrum. We could also have used an experimentally measured slit function directly. See [Spectrum.apply_slit()](https://radis.readthedocs.io/en/latest/source/radis.spectrum.spectrum.html#radis.spectrum.spectrum.Spectrum.apply_slit)  "
   ]
  },
  {
   "cell_type": "code",
   "execution_count": null,
   "metadata": {},
   "outputs": [],
   "source": [
    "s_los = s > s0\n",
    "s_los.apply_slit(2, 'nm')"
   ]
  },
  {
   "cell_type": "markdown",
   "metadata": {},
   "source": [
    "### Experiment spectrum\n",
    "\n",
    "First upload a file to RADIS-LAB, for instance `experiment.txt`, using \"Upload File\" button in the file explorer part.\n",
    "\n",
    "We will then create a `radis` [Spectrum](https://radis.readthedocs.io/en/latest/source/radis.spectrum.spectrum.html#radis.spectrum.spectrum.Spectrum) object directly from the file. We could also import it with `numpy` and use [Spectrum.from_array()](https://radis.readthedocs.io/en/latest/source/radis.spectrum.spectrum.html#radis.spectrum.spectrum.Spectrum.from_array)"
   ]
  },
  {
   "cell_type": "code",
   "execution_count": null,
   "metadata": {},
   "outputs": [],
   "source": [
    "from radis import Spectrum\n",
    "# Import an experimental spectrum : \n",
    "s_exp = Spectrum.from_txt('experiment.txt', 'radiance', unit='mW/cm2/sr/nm', waveunit='nm')       "
   ]
  },
  {
   "cell_type": "markdown",
   "metadata": {},
   "source": [
    "### Compare\n",
    "\n",
    "We use [plot_diff()](https://radis.readthedocs.io/en/latest/source/radis.spectrum.compare.html#radis.spectrum.compare.plot_diff) "
   ]
  },
  {
   "cell_type": "code",
   "execution_count": null,
   "metadata": {},
   "outputs": [],
   "source": [
    "from radis import plot_diff\n",
    "plot_diff(s_exp, s_los)"
   ]
  }
 ],
 "metadata": {
  "kernelspec": {
   "display_name": "Python 3",
   "language": "python",
   "name": "python3"
  },
  "language_info": {
   "codemirror_mode": {
    "name": "ipython",
    "version": 3
   },
   "file_extension": ".py",
   "mimetype": "text/x-python",
   "name": "python",
   "nbconvert_exporter": "python",
   "pygments_lexer": "ipython3",
   "version": "3.6.11"
  }
 },
 "nbformat": 4,
 "nbformat_minor": 4
}
