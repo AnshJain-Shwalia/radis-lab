{
 "cells": [
  {
   "cell_type": "markdown",
   "metadata": {},
   "source": [
    "## Calculate a H$_2$O high-temperature spectrum with HITEMP\n",
    "\n",
    "⚠️ *HITEMP CO2 computations require a lot of RAM. RADIS-Lab is lucky to be hosted on a https://notebooks.gesis.org binder with 8 GB RAM, which should be enough for medium-size ranges ! For large ranges, see the [Calculate a large spectrum](https://radis.readthedocs.io/en/latest/auto_examples/plot_merged_large_spectrum.html#sphx-glr-auto-examples-plot-merged-large-spectrum-py) on Radis documentation* \n",
    "\n",
    "For any help, refer to [RADIS documentation](https://radis.readthedocs.io) \n",
    "\n",
    "---\n",
    "\n",
    "First let's initialize our RADIS environment, and the calculation conditions : "
   ]
  },
  {
   "cell_type": "markdown",
   "metadata": {},
   "source": [
    "## Databases \n",
    "\n",
    "The HITRAN database will be automatically downloaded. The HITEMP database files for H2O have been preconfigured in the RADIS [~/radis.json](../radis.json) config file. You can see the list of preconfigured databases with [printDatabankList()](https://radis.readthedocs.io/en/latest/gen_modules/radis.misc.config.html#radis.misc.config.printDatabankList). \n"
   ]
  },
  {
   "cell_type": "markdown",
   "metadata": {},
   "source": [
    "### Calculations\n",
    "\n",
    "Let's initialize the plot environment : "
   ]
  },
  {
   "cell_type": "code",
   "execution_count": 1,
   "metadata": {},
   "outputs": [],
   "source": [
    "# Setup plots : use `%matplotlib widget` for interactive plots (zoom, etc.) but graphs will not appear on download.\n",
    "%matplotlib inline\n"
   ]
  },
  {
   "cell_type": "markdown",
   "metadata": {},
   "source": [
    "Now let's calculate the spectra with [calc_spectrum](https://radis.readthedocs.io/en/latest/source/radis.lbl.calc.html#radis.lbl.calc.calc_spectrum) "
   ]
  },
  {
   "cell_type": "code",
   "execution_count": null,
   "metadata": {},
   "outputs": [
    {
     "name": "stdout",
     "output_type": "stream",
     "text": [
      "\u001b[32mLDM algorithm used. Defaulting broadening method from <radis.misc.utils.Default object at 0x7f791e099790> to Voigt\u001b[0m\n",
      "Downloading 01_02000-02250_HITEMP2010.zip for H2O (1/7).\n",
      "Download complete. Parsing H2O database to /home/jovyan/.radisdb/hitemp/H2O-01_02000-02250_HITEMP2010.h5\n",
      "(68s)\t5.5%\t  Parsed 1,300,000 / ~23,520,239 lines (estimate). Wavenumber range 2000.00-2094.44 cm-1 is complete."
     ]
    }
   ],
   "source": [
    "from radis import calc_spectrum\n",
    "from astropy import units as u\n",
    "s = calc_spectrum(wavenum_min = 2000 / u.cm, \n",
    "                  wavenum_max = 4000 / u.cm,\n",
    "                  molecule = 'H2O',\n",
    "                  isotope = '1,2,3',\n",
    "                  pressure = 1.01325 * u.bar,\n",
    "                  mole_fraction = 1,\n",
    "                  path_length = 1 * u.cm,\n",
    "                  Tgas=3000, \n",
    "                  databank='hitemp',\n",
    "                  verbose=3,        # adding some extra info for the first computation\n",
    "                  )\n",
    "# without verbose=False this will show all the input parameters. \n",
    "# With verbose=2,3,etc... we get increasing number of details about the calculation. "
   ]
  },
  {
   "cell_type": "markdown",
   "metadata": {},
   "source": [
    "⚠️ *The first computation may take a lot of time to generate .hdf5 [cache files](https://radis.readthedocs.io/en/latest/source/radis.io.cache_files.html) from the HITEMP files. At this point this is not yet done while setting up the databases. The spectrum calculation itself will be extremelly fast for the rest of your session !*"
   ]
  },
  {
   "cell_type": "code",
   "execution_count": null,
   "metadata": {},
   "outputs": [],
   "source": []
  }
 ],
 "metadata": {
  "celltoolbar": "Tags",
  "kernelspec": {
   "display_name": "Python 3 (ipykernel)",
   "language": "python",
   "name": "python3"
  },
  "language_info": {
   "codemirror_mode": {
    "name": "ipython",
    "version": 3
   },
   "file_extension": ".py",
   "mimetype": "text/x-python",
   "name": "python",
   "nbconvert_exporter": "python",
   "pygments_lexer": "ipython3",
   "version": "3.8.10"
  }
 },
 "nbformat": 4,
 "nbformat_minor": 4
}
