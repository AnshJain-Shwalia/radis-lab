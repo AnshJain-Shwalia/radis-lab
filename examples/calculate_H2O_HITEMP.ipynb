{
    "metadata": {
        "celltoolbar": "Tags",
        "kernelspec": {
            "display_name": "Python 3",
            "language": "python",
            "name": "python3"
        },
        "language_info": {
            "name": "python",
            "version": "3.6.13",
            "mimetype": "text/x-python",
            "codemirror_mode": {
                "name": "ipython",
                "version": 3
            },
            "pygments_lexer": "ipython3",
            "nbconvert_exporter": "python",
            "file_extension": ".py"
        }
    },
    "nbformat_minor": 4,
    "nbformat": 4,
    "cells": [
        {
            "cell_type": "markdown",
            "source": "## Calculate a H$_2$O high-temperature spectrum with HITEMP\n\n⚠️ *HITEMP CO2 computations require a lot of RAM. RADIS-Lab is lucky to be hosted on a https://notebooks.gesis.org binder with 8 GB RAM, which should be enough for medium-size ranges ! For large ranges, see the [Calculate a large spectrum](https://radis.readthedocs.io/en/latest/auto_examples/plot_merged_large_spectrum.html#sphx-glr-auto-examples-plot-merged-large-spectrum-py) on Radis documentation* \n\nFor any help, refer to [RADIS documentation](https://radis.readthedocs.io) \n\n---\n\nFirst let's initialize our RADIS environment, and the calculation conditions : ",
            "metadata": {}
        },
        {
            "cell_type": "markdown",
            "source": "## Databases \n\nThe HITEMP database files for H2O have been preconfigured in the RADIS [~/radis.json](../radis.json) config file. You can see the list of preconfigured databases with `printDatabankList`: \n",
            "metadata": {}
        },
        {
            "cell_type": "code",
            "source": "from radis.misc.config import printDatabankList\nprintDatabankList()",
            "metadata": {
                "trusted": true
            },
            "execution_count": 1,
            "outputs": [
                {
                    "name": "stdout",
                    "text": "Databanks in /home/jovyan/radis.json:  HITEMP2010-CO2,HITEMP2010-H2O\n\n\n'HITEMP2010-CO2':\n{'info': 'HITEMP2020 CO2 lines with TIPS-2017 for partition functions (equilibrium) and RADIS for rovibrational energies (nonequilibrium) ', 'path': ['/home/jovyan/databases/HITEMP/CO2/*.par'], 'format': 'hitemp', 'parfuncfmt': 'hapi', 'levelsfmt': 'radis'} \n\n\n\n'HITEMP2010-H2O':\n{'info': 'HITEMP2020 H2O lines with TIPS-2017 for partition functions (equilibrium) and RADIS for rovibrational energies (nonequilibrium) ', 'path': ['/home/jovyan/databases/HITEMP/H2O/*.par'], 'format': 'hitemp', 'parfuncfmt': 'hapi', 'levelsfmt': 'radis'} \n\n",
                    "output_type": "stream"
                }
            ]
        },
        {
            "cell_type": "markdown",
            "source": "### Calculations\n\nLet's initialize the plot environment : ",
            "metadata": {}
        },
        {
            "cell_type": "code",
            "source": "# Setup plots : use `%matplotlib widget` for interactive plots (zoom, etc.) but graphs will not appear on download.\n%matplotlib inline\n",
            "metadata": {
                "trusted": true
            },
            "execution_count": 2,
            "outputs": []
        },
        {
            "cell_type": "markdown",
            "source": "Now let's calculate the spectra with [calc_spectrum](https://radis.readthedocs.io/en/latest/source/radis.lbl.calc.html#radis.lbl.calc.calc_spectrum) ",
            "metadata": {}
        },
        {
            "cell_type": "code",
            "source": "from radis import calc_spectrum\nfrom astropy import units as u\ns = calc_spectrum(wavenum_min = 2000 / u.cm, \n                  wavenum_max = 4000 / u.cm,\n                  molecule = 'H2O',\n                  isotope = '1,2,3',\n                  pressure = 1.01325 * u.bar,\n                  mole_fraction = 1,\n                  path_length = 1 * u.cm,\n                  verbose=3,\n                  Tgas=3000, \n                  databank='HITEMP2010-H2O',  # local H2O database.  Use 'hitemp' to fetch directly from HITEMP\n                  )\n# without verbose=False this will show all the input parameters. \n# With verbose=2,3,etc... we get increasing number of details about the calculation. ",
            "metadata": {
                "trusted": true
            },
            "execution_count": null,
            "outputs": [
                {
                    "name": "stdout",
                    "text": "Using database: HITEMP2010-H2O\n'HITEMP2010-H2O':\n{'info': 'HITEMP2020 H2O lines with TIPS-2017 for partition functions (equilibrium) and RADIS for rovibrational energies (nonequilibrium) ', 'path': ['/home/jovyan/databases/HITEMP/H2O/*.par'], 'format': 'hitemp', 'parfuncfmt': 'hapi', 'levelsfmt': 'radis'} \n\n\n\n\u001b[32mLoading Line databank\u001b[0m\nOpening file /home/jovyan/databases/HITEMP/H2O/01_3250-3500_HITEMP2010.par (cache=True)\nLast modification time: Mon Jun 28 18:04:34 2010\n\u001b[35mReading cache file (/home/jovyan/databases/HITEMP/H2O/01_3250-3500_HITEMP2010.h5)\u001b[0m\nDropped columns: ['gp', 'gpp']\nOpening file /home/jovyan/databases/HITEMP/H2O/01_50-150_HITEMP2010.par (cache=True)\nLast modification time: Mon Jun 28 18:48:06 2010\n\u001b[32mDatabase file /home/jovyan/databases/HITEMP/H2O/01_50-150_HITEMP2010.h5 irrelevant and not loaded\u001b[0m\n\u001b[32mDatabase file /home/jovyan/databases/HITEMP/H2O/01_50-150_HITEMP2010.h5 irrelevant: wavenum_max=150.0 [file metadata] < 1995.0000000000045 [expected], not loaded\u001b[0m\nOpening file /home/jovyan/databases/HITEMP/H2O/01_900-1000_HITEMP2010.par (cache=True)\nLast modification time: Mon Jun 28 17:48:18 2010\nThe following columns had the `object` format and were removed: ['ierr', 'iref', 'lmix', 'Fu', 'symu', 'Fl', 'syml']\nGenerating cache file /home/jovyan/databases/HITEMP/H2O/01_900-1000_HITEMP2010.h5 with metadata :\n{'last_modification': 'Mon Jun 28 17:48:18 2010', 'wavenum_min': 900.0001, 'wavenum_max': 1000.0}\n... saved /home/jovyan/databases/HITEMP/H2O/01_900-1000_HITEMP2010.h5 with metadata: {'last_modification': 'Mon Jun 28 17:48:18 2010', 'wavenum_min': 900.0001, 'wavenum_max': 1000.0, 'version': '0.9.29'}\nDropped columns: ['gp', 'gpp']\nOpening file /home/jovyan/databases/HITEMP/H2O/01_3000-3250_HITEMP2010.par (cache=True)\nLast modification time: Mon Jun 28 17:53:48 2010\nThe following columns had the `object` format and were removed: ['ierr', 'iref', 'lmix', 'Fu', 'symu', 'Fl', 'syml']\nGenerating cache file /home/jovyan/databases/HITEMP/H2O/01_3000-3250_HITEMP2010.h5 with metadata :\n{'last_modification': 'Mon Jun 28 17:53:48 2010', 'wavenum_min': 3000.0001, 'wavenum_max': 3250.0}\n... saved /home/jovyan/databases/HITEMP/H2O/01_3000-3250_HITEMP2010.h5 with metadata: {'last_modification': 'Mon Jun 28 17:53:48 2010', 'wavenum_min': 3000.0001, 'wavenum_max': 3250.0, 'version': '0.9.29'}\nDropped columns: ['gp', 'gpp']\nOpening file /home/jovyan/databases/HITEMP/H2O/01_600-700_HITEMP2010.par (cache=True)\nLast modification time: Wed Jan 26 12:31:04 2011\nThe following columns had the `object` format and were removed: ['ierr', 'iref', 'lmix', 'Fu', 'symu', 'Fl', 'syml']\nGenerating cache file /home/jovyan/databases/HITEMP/H2O/01_600-700_HITEMP2010.h5 with metadata :\n{'last_modification': 'Wed Jan 26 12:31:04 2011', 'wavenum_min': 600.0001, 'wavenum_max': 700.0}\n... saved /home/jovyan/databases/HITEMP/H2O/01_600-700_HITEMP2010.h5 with metadata: {'last_modification': 'Wed Jan 26 12:31:04 2011', 'wavenum_min': 600.0001, 'wavenum_max': 700.0, 'version': '0.9.29'}\nDropped columns: ['gp', 'gpp']\nOpening file /home/jovyan/databases/HITEMP/H2O/01_4500-5000_HITEMP2010.par (cache=True)\nLast modification time: Mon Jun 28 18:09:52 2010\nThe following columns had the `object` format and were removed: ['ierr', 'iref', 'lmix', 'Fu', 'symu', 'Fl', 'syml']\nGenerating cache file /home/jovyan/databases/HITEMP/H2O/01_4500-5000_HITEMP2010.h5 with metadata :\n{'last_modification': 'Mon Jun 28 18:09:52 2010', 'wavenum_min': 4500.0002, 'wavenum_max': 4999.9995}\n... saved /home/jovyan/databases/HITEMP/H2O/01_4500-5000_HITEMP2010.h5 with metadata: {'last_modification': 'Mon Jun 28 18:09:52 2010', 'wavenum_min': 4500.0002, 'wavenum_max': 4999.9995, 'version': '0.9.29'}\nDropped columns: ['gp', 'gpp']\nOpening file /home/jovyan/databases/HITEMP/H2O/01_1750-2000_HITEMP2010.par (cache=True)\nLast modification time: Mon Jun 28 17:59:02 2010\n",
                    "output_type": "stream"
                }
            ]
        },
        {
            "cell_type": "markdown",
            "source": "⚠️ *The first computation may take a lot of time to generate .hdf5 [cache files](https://radis.readthedocs.io/en/latest/source/radis.io.cache_files.html) from the HITEMP files. At this point this is not yet done while setting up the databases. The spectrum calculation itself will be extremelly fast for the rest of your session !*",
            "metadata": {}
        },
        {
            "cell_type": "code",
            "source": "",
            "metadata": {},
            "execution_count": null,
            "outputs": []
        }
    ]
}