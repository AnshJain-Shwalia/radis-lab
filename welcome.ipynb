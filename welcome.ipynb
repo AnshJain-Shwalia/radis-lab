{
 "cells": [
  {
   "cell_type": "markdown",
   "metadata": {},
   "source": [
    "# Welcome to RADIS-lab !\n",
    "\n",
    "![](binder/radis_ico_dark.png)\n",
    "\n",
    "This is your online environment to compute spectra and post-process them. \n",
    "\n",
    "It comes pre-installed with\n",
    "- a scientific Python environment\n",
    "- the latest RADIS version\n",
    "- pre-configured `./databases`\n",
    "\n",
    "### Examples\n",
    "\n",
    "Run and edit an existing notebook such as [compare_with_experiment.ipynb](./compare_with_experiment.ipynb), or start a new one from the Launcher. \n",
    "See more examples : \n",
    "\n",
    "- [examples/co2-4080-4500nm/](examples/co2-4080-4500nm/co2-4080-4500.ipynb) : CO$_2$ spectrum compared with experiment, with line-of-sight absorption, and instrumental slit function. \n",
    "\n",
    "\n",
    "### Useful links \n",
    "\n",
    "- [Documentation](https://radis.readthedocs.io/)\n",
    "- [Discussion on Slack](https://github.com/radis/slack-invite)\n",
    "\n",
    "\n",
    "### Environment\n",
    "\n",
    "`RADIS-lab` uses the JupyterLab environment, and is deployed for you on [mybinder.org](http://mybinder.org/). The session will timeout after ~1hr of inactivity. You'll still be able to download your notebooks on timeout. You can also save/restore directly to your browser storage. \n",
    "\n",
    "JupyterLab can be improved with extensions. Open the `Extension Manager` on the left.\n",
    "\n",
    "[mybinder.org](http://mybinder.org/) provides 2 Gb of RAM by default. This is enough for calculations with the HITRAN database but may be limiting for HITEMP. [GESIS.org](https://notebooks.gesis.org/) can host JupyterLab with up to 8 Gb RAM for public users and 32 Gb for registered users. We are also looking for institutions to host RADIS-lab on clusters with large RAM access. \n",
    "\n",
    "\n",
    "### Start computing spectra\n",
    "\n",
    "This is a notebook. Run the cell below with the ▶️ button in the toolbar.   "
   ]
  },
  {
   "cell_type": "code",
   "execution_count": 6,
   "metadata": {},
   "outputs": [
    {
     "name": "stdout",
     "output_type": "stream",
     "text": [
      "Using cache file: /home/jovyan/.astropy/cache/astroquery/Hitran/tempfile_CO_1_1895.00_2305.01.h5\n",
      "Using cache file: /home/jovyan/.astropy/cache/astroquery/Hitran/tempfile_CO_2_1895.00_2305.01.h5\n",
      "Using cache file: /home/jovyan/.astropy/cache/astroquery/Hitran/tempfile_CO_3_1895.00_2305.01.h5\n",
      "Calculating Equilibrium Spectrum\n",
      "Physical Conditions\n",
      "----------------------------------------\n",
      "   Tgas                 700 K\n",
      "   Trot                 700 K\n",
      "   Tvib                 700 K\n",
      "   isotope              1,2,3\n",
      "   mole_fraction        0.1\n",
      "   molecule             CO\n",
      "   path_length          1 cm\n",
      "   pressure_mbar        1013.25 mbar\n",
      "   rot_distribution     boltzmann\n",
      "   self_absorption      True\n",
      "   state                X\n",
      "   vib_distribution     boltzmann\n",
      "   wavenum_max          2300.0000 cm-1\n",
      "   wavenum_min          1900.0000 cm-1\n",
      "Computation Parameters\n",
      "----------------------------------------\n",
      "   Tref                 296 K\n",
      "   broadening_max_width  10 cm-1\n",
      "   broadening_method    fft\n",
      "   cutoff               1e-27 cm-1/(#.cm-2)\n",
      "   dbformat             hitran\n",
      "   dbpath               fetched from astroquery\n",
      "   dlm_log_pG           0.1375350788016573\n",
      "   dlm_log_pL           0.20180288881201608\n",
      "   include_neighbouring_lines  True\n",
      "   optimization         min-RMS\n",
      "   parfuncfmt           hapi\n",
      "   pseudo_continuum_threshold  0\n",
      "   wavenum_max_calc     2305.0100 cm-1\n",
      "   wavenum_min_calc     1895.0000 cm-1\n",
      "   waveunit             cm-1\n",
      "   wstep                0.01 cm-1\n",
      "Information\n",
      "----------------------------------------\n",
      "   db_use_cached        True\n",
      "   export_lines         True\n",
      "   lvl_use_cached       True\n",
      "   parallel             False\n",
      "   warning_broadening_threshold  0.01\n",
      "   warning_linestrength_cutoff  0.01\n",
      "----------------------------------------\n",
      "Spectrum calculated in 0.21s\n"
     ]
    },
    {
     "name": "stderr",
     "output_type": "stream",
     "text": [
      "/srv/conda/envs/notebook/lib/python3.6/site-packages/radis/misc/warning.py:241: MissingSelfBroadeningWarning: Self-broadening temperature coefficient Tdpsel not given in database: used Tdpair instead\n",
      "  warnings.warn(WarningType(message))\n"
     ]
    },
    {
     "data": {
      "application/vnd.jupyter.widget-view+json": {
       "model_id": "ae183d0b0bf043399b360f5743fbc131",
       "version_major": 2,
       "version_minor": 0
      },
      "text/plain": [
       "Canvas(toolbar=Toolbar(toolitems=[('Home', 'Reset original view', 'home', 'home'), ('Back', 'Back to previous …"
      ]
     },
     "metadata": {},
     "output_type": "display_data"
    },
    {
     "data": {
      "text/plain": [
       "<matplotlib.lines.Line2D at 0x7f010f957630>"
      ]
     },
     "execution_count": 6,
     "metadata": {},
     "output_type": "execute_result"
    }
   ],
   "source": [
    "# initialize interactive plots :\n",
    "%matplotlib widget\n",
    "\n",
    "from radis import calc_spectrum\n",
    "s = calc_spectrum(1900, 2300,         # cm-1\n",
    "                  molecule='CO',\n",
    "                  isotope='1,2,3',\n",
    "                  pressure=1.01325,   # bar\n",
    "                  Tgas=700,           # K\n",
    "                  mole_fraction=0.1,\n",
    "                  path_length=1,      # cm\n",
    "                  )\n",
    "s.apply_slit(0.5, 'nm')       # simulate an experimental slit\n",
    "s.plot('radiance')"
   ]
  },
  {
   "cell_type": "code",
   "execution_count": null,
   "metadata": {},
   "outputs": [],
   "source": []
  }
 ],
 "metadata": {
  "kernelspec": {
   "display_name": "Python 3",
   "language": "python",
   "name": "python3"
  },
  "language_info": {
   "codemirror_mode": {
    "name": "ipython",
    "version": 3
   },
   "file_extension": ".py",
   "mimetype": "text/x-python",
   "name": "python",
   "nbconvert_exporter": "python",
   "pygments_lexer": "ipython3",
   "version": "3.6.11"
  }
 },
 "nbformat": 4,
 "nbformat_minor": 4
}
