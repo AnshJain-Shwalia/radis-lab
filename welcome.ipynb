{
 "cells": [
  {
   "cell_type": "markdown",
   "metadata": {},
   "source": [
    "# Welcome in RADIS-lab !\n",
    "\n",
    "![](binder/radis_ico_dark.png)\n",
    "\n",
    "This your online environment to compute spectra and post-process them. \n",
    "\n",
    "It comes pre-installed with\n",
    "- a scientific Python environment\n",
    "- the latest RADIS version\n",
    "- pre-configured [`~/databases`](./databases) \n",
    "\n",
    "### Get started \n",
    "\n",
    "Run and edit an existing notebook such as [compare_with_experiment.ipynb](./compare_with_experiment.ipynb), or start a new one from the Launcher. Each notebook can also be connected to a console for more interactive.  \n",
    "\n",
    "\n",
    "### Examples \n",
    "\n",
    "- [examples/co2-4080-4500nm/](examples/co2-4080-4500nm/co2-4080-4500.ipynb) : CO$_2$ spectrum compared with experiment, with line-of-sight absorption, and instrumental slit function. \n",
    "\n",
    "\n",
    "### Useful links \n",
    "\n",
    "- [Documentation](https://radis.readthedocs.io/)\n",
    "- [Discussion on Slack](https://github.com/radis/slack-invite)\n",
    "\n",
    "\n",
    "### Environment\n",
    "\n",
    "`RADIS-lab` uses the JupyterLab environment, and is deployed for you on [mybinder.org](http://mybinder.org/). The session will timeout after ~1hr of inactivity. You'll still be able to download your notebooks on timeout. You can also save/restore directly to your browser storage. \n",
    "\n",
    "JupyterLab can be improved with extensions. Open the `Extension Manager` on the left.\n",
    "\n",
    "[mybinder.org](http://mybinder.org/) provides 2 Gb of RAM by default. This is enough for calculations with the HITRAN database but may be limiting for HITEMP. [GESIS.org](https://notebooks.gesis.org/) can host JupyterLab with up to 8 Gb RAM for public users and 32 Gb for registered users. We are also looking for institutions to host RADIS-lab on clusters with large RAM access. "
   ]
  }
 ],
 "metadata": {
  "kernelspec": {
   "display_name": "Python 3",
   "language": "python",
   "name": "python3"
  },
  "language_info": {
   "codemirror_mode": {
    "name": "ipython",
    "version": 3
   },
   "file_extension": ".py",
   "mimetype": "text/x-python",
   "name": "python",
   "nbconvert_exporter": "python",
   "pygments_lexer": "ipython3",
   "version": "3.6.11"
  }
 },
 "nbformat": 4,
 "nbformat_minor": 4
}
